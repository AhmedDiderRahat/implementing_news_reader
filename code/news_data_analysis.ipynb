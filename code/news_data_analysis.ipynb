{
 "cells": [
  {
   "cell_type": "markdown",
   "metadata": {},
   "source": [
    "### Part 2: ML pipeline"
   ]
  },
  {
   "cell_type": "code",
   "execution_count": 1,
   "metadata": {},
   "outputs": [],
   "source": [
    "import numpy as np\n",
    "import pandas as pd\n",
    "import re\n",
    "\n",
    "from sklearn import preprocessing\n",
    "from nltk.corpus import stopwords\n",
    "from nltk.tokenize import word_tokenize\n",
    "from sklearn import preprocessing\n",
    "from sklearn.model_selection import train_test_split\n",
    "from sklearn.feature_extraction.text import TfidfVectorizer\n",
    "from sklearn.ensemble import RandomForestClassifier\n",
    "from sklearn.metrics import accuracy_score, classification_report"
   ]
  },
  {
   "cell_type": "code",
   "execution_count": 2,
   "metadata": {},
   "outputs": [],
   "source": [
    "df = pd.read_csv('../input_data/news_paper_data.csv')"
   ]
  },
  {
   "cell_type": "code",
   "execution_count": 3,
   "metadata": {},
   "outputs": [
    {
     "data": {
      "text/html": [
       "<div>\n",
       "<style scoped>\n",
       "    .dataframe tbody tr th:only-of-type {\n",
       "        vertical-align: middle;\n",
       "    }\n",
       "\n",
       "    .dataframe tbody tr th {\n",
       "        vertical-align: top;\n",
       "    }\n",
       "\n",
       "    .dataframe thead th {\n",
       "        text-align: right;\n",
       "    }\n",
       "</style>\n",
       "<table border=\"1\" class=\"dataframe\">\n",
       "  <thead>\n",
       "    <tr style=\"text-align: right;\">\n",
       "      <th></th>\n",
       "      <th>node_id</th>\n",
       "      <th>title</th>\n",
       "      <th>date</th>\n",
       "      <th>url</th>\n",
       "      <th>category</th>\n",
       "      <th>article</th>\n",
       "    </tr>\n",
       "  </thead>\n",
       "  <tbody>\n",
       "    <tr>\n",
       "      <th>0</th>\n",
       "      <td>3074331</td>\n",
       "      <td>Consumer rights body’s oil price monitoring st...</td>\n",
       "      <td>19-07-2022</td>\n",
       "      <td>/business/news/consumer-rights-bodys-oil-price...</td>\n",
       "      <td>business</td>\n",
       "      <td>The Directorate of National Consumer Rights Pr...</td>\n",
       "    </tr>\n",
       "    <tr>\n",
       "      <th>1</th>\n",
       "      <td>3074126</td>\n",
       "      <td>Chattogram shares bleed for another day</td>\n",
       "      <td>19-07-2022</td>\n",
       "      <td>/business/news/chattogram-shares-bleed-another...</td>\n",
       "      <td>business</td>\n",
       "      <td>Shares on the Chittagong Stock Exchange (CSE) ...</td>\n",
       "    </tr>\n",
       "    <tr>\n",
       "      <th>2</th>\n",
       "      <td>3073706</td>\n",
       "      <td>bKash’s instant add money service at Dev Bank</td>\n",
       "      <td>19-07-2022</td>\n",
       "      <td>/business/organisation-news/news/bkashs-instan...</td>\n",
       "      <td>business</td>\n",
       "      <td>Clients of Bangladesh Development Bank (BDB) c...</td>\n",
       "    </tr>\n",
       "    <tr>\n",
       "      <th>3</th>\n",
       "      <td>3074291</td>\n",
       "      <td>Textile millers demand 360 days for deferred L...</td>\n",
       "      <td>19-07-2022</td>\n",
       "      <td>/business/news/textile-millers-demand-360-days...</td>\n",
       "      <td>business</td>\n",
       "      <td>The leaders of Bangladesh Textile Mills Associ...</td>\n",
       "    </tr>\n",
       "    <tr>\n",
       "      <th>4</th>\n",
       "      <td>3074276</td>\n",
       "      <td>Tk 25,000 crore refinance scheme unveiled for ...</td>\n",
       "      <td>19-07-2022</td>\n",
       "      <td>/business/news/tk-25000-crore-refinance-scheme...</td>\n",
       "      <td>business</td>\n",
       "      <td>Bangladesh Bank today unveiled a Tk 25,000 cro...</td>\n",
       "    </tr>\n",
       "  </tbody>\n",
       "</table>\n",
       "</div>"
      ],
      "text/plain": [
       "   node_id                                              title        date  \\\n",
       "0  3074331  Consumer rights body’s oil price monitoring st...  19-07-2022   \n",
       "1  3074126            Chattogram shares bleed for another day  19-07-2022   \n",
       "2  3073706      bKash’s instant add money service at Dev Bank  19-07-2022   \n",
       "3  3074291  Textile millers demand 360 days for deferred L...  19-07-2022   \n",
       "4  3074276  Tk 25,000 crore refinance scheme unveiled for ...  19-07-2022   \n",
       "\n",
       "                                                 url  category  \\\n",
       "0  /business/news/consumer-rights-bodys-oil-price...  business   \n",
       "1  /business/news/chattogram-shares-bleed-another...  business   \n",
       "2  /business/organisation-news/news/bkashs-instan...  business   \n",
       "3  /business/news/textile-millers-demand-360-days...  business   \n",
       "4  /business/news/tk-25000-crore-refinance-scheme...  business   \n",
       "\n",
       "                                             article  \n",
       "0  The Directorate of National Consumer Rights Pr...  \n",
       "1  Shares on the Chittagong Stock Exchange (CSE) ...  \n",
       "2  Clients of Bangladesh Development Bank (BDB) c...  \n",
       "3  The leaders of Bangladesh Textile Mills Associ...  \n",
       "4  Bangladesh Bank today unveiled a Tk 25,000 cro...  "
      ]
     },
     "execution_count": 3,
     "metadata": {},
     "output_type": "execute_result"
    }
   ],
   "source": [
    "df.head()"
   ]
  },
  {
   "cell_type": "code",
   "execution_count": 4,
   "metadata": {},
   "outputs": [],
   "source": [
    "# Data Cleaning \n",
    "def cleaning_text(text):\n",
    "    text = text.lower().replace('\\n', ' ').replace('\\r', ' ').strip()\n",
    "    \n",
    "    # remove extra spaces\n",
    "    text = re.sub(' +', ' ', text)\n",
    "    \n",
    "    # only took words\n",
    "    text = re.sub(r'[^\\w\\s]', '', text)\n",
    "    \n",
    "    stop_words = set(stopwords.words('english'))\n",
    "    word_tokens = word_tokenize(text)\n",
    "    \n",
    "    clean_text = [w for w in word_tokens if w not in stop_words]\n",
    "    \n",
    "    return ' '.join(clean_text)"
   ]
  },
  {
   "cell_type": "code",
   "execution_count": 5,
   "metadata": {},
   "outputs": [
    {
     "data": {
      "text/html": [
       "<div>\n",
       "<style scoped>\n",
       "    .dataframe tbody tr th:only-of-type {\n",
       "        vertical-align: middle;\n",
       "    }\n",
       "\n",
       "    .dataframe tbody tr th {\n",
       "        vertical-align: top;\n",
       "    }\n",
       "\n",
       "    .dataframe thead th {\n",
       "        text-align: right;\n",
       "    }\n",
       "</style>\n",
       "<table border=\"1\" class=\"dataframe\">\n",
       "  <thead>\n",
       "    <tr style=\"text-align: right;\">\n",
       "      <th></th>\n",
       "      <th>node_id</th>\n",
       "      <th>title</th>\n",
       "      <th>date</th>\n",
       "      <th>url</th>\n",
       "      <th>category</th>\n",
       "      <th>article</th>\n",
       "      <th>clean_data</th>\n",
       "    </tr>\n",
       "  </thead>\n",
       "  <tbody>\n",
       "    <tr>\n",
       "      <th>0</th>\n",
       "      <td>3074331</td>\n",
       "      <td>Consumer rights body’s oil price monitoring st...</td>\n",
       "      <td>19-07-2022</td>\n",
       "      <td>/business/news/consumer-rights-bodys-oil-price...</td>\n",
       "      <td>business</td>\n",
       "      <td>The Directorate of National Consumer Rights Pr...</td>\n",
       "      <td>directorate national consumer rights protectio...</td>\n",
       "    </tr>\n",
       "    <tr>\n",
       "      <th>1</th>\n",
       "      <td>3074126</td>\n",
       "      <td>Chattogram shares bleed for another day</td>\n",
       "      <td>19-07-2022</td>\n",
       "      <td>/business/news/chattogram-shares-bleed-another...</td>\n",
       "      <td>business</td>\n",
       "      <td>Shares on the Chittagong Stock Exchange (CSE) ...</td>\n",
       "      <td>shares chittagong stock exchange cse witnessed...</td>\n",
       "    </tr>\n",
       "    <tr>\n",
       "      <th>2</th>\n",
       "      <td>3073706</td>\n",
       "      <td>bKash’s instant add money service at Dev Bank</td>\n",
       "      <td>19-07-2022</td>\n",
       "      <td>/business/organisation-news/news/bkashs-instan...</td>\n",
       "      <td>business</td>\n",
       "      <td>Clients of Bangladesh Development Bank (BDB) c...</td>\n",
       "      <td>clients bangladesh development bank bdb use ad...</td>\n",
       "    </tr>\n",
       "    <tr>\n",
       "      <th>3</th>\n",
       "      <td>3074291</td>\n",
       "      <td>Textile millers demand 360 days for deferred L...</td>\n",
       "      <td>19-07-2022</td>\n",
       "      <td>/business/news/textile-millers-demand-360-days...</td>\n",
       "      <td>business</td>\n",
       "      <td>The leaders of Bangladesh Textile Mills Associ...</td>\n",
       "      <td>leaders bangladesh textile mills association b...</td>\n",
       "    </tr>\n",
       "    <tr>\n",
       "      <th>4</th>\n",
       "      <td>3074276</td>\n",
       "      <td>Tk 25,000 crore refinance scheme unveiled for ...</td>\n",
       "      <td>19-07-2022</td>\n",
       "      <td>/business/news/tk-25000-crore-refinance-scheme...</td>\n",
       "      <td>business</td>\n",
       "      <td>Bangladesh Bank today unveiled a Tk 25,000 cro...</td>\n",
       "      <td>bangladesh bank today unveiled tk 25000 crore ...</td>\n",
       "    </tr>\n",
       "  </tbody>\n",
       "</table>\n",
       "</div>"
      ],
      "text/plain": [
       "   node_id                                              title        date  \\\n",
       "0  3074331  Consumer rights body’s oil price monitoring st...  19-07-2022   \n",
       "1  3074126            Chattogram shares bleed for another day  19-07-2022   \n",
       "2  3073706      bKash’s instant add money service at Dev Bank  19-07-2022   \n",
       "3  3074291  Textile millers demand 360 days for deferred L...  19-07-2022   \n",
       "4  3074276  Tk 25,000 crore refinance scheme unveiled for ...  19-07-2022   \n",
       "\n",
       "                                                 url  category  \\\n",
       "0  /business/news/consumer-rights-bodys-oil-price...  business   \n",
       "1  /business/news/chattogram-shares-bleed-another...  business   \n",
       "2  /business/organisation-news/news/bkashs-instan...  business   \n",
       "3  /business/news/textile-millers-demand-360-days...  business   \n",
       "4  /business/news/tk-25000-crore-refinance-scheme...  business   \n",
       "\n",
       "                                             article  \\\n",
       "0  The Directorate of National Consumer Rights Pr...   \n",
       "1  Shares on the Chittagong Stock Exchange (CSE) ...   \n",
       "2  Clients of Bangladesh Development Bank (BDB) c...   \n",
       "3  The leaders of Bangladesh Textile Mills Associ...   \n",
       "4  Bangladesh Bank today unveiled a Tk 25,000 cro...   \n",
       "\n",
       "                                          clean_data  \n",
       "0  directorate national consumer rights protectio...  \n",
       "1  shares chittagong stock exchange cse witnessed...  \n",
       "2  clients bangladesh development bank bdb use ad...  \n",
       "3  leaders bangladesh textile mills association b...  \n",
       "4  bangladesh bank today unveiled tk 25000 crore ...  "
      ]
     },
     "execution_count": 5,
     "metadata": {},
     "output_type": "execute_result"
    }
   ],
   "source": [
    "df['clean_data'] = df['article'].apply(cleaning_text)\n",
    "\n",
    "df.head()"
   ]
  },
  {
   "cell_type": "code",
   "execution_count": 6,
   "metadata": {},
   "outputs": [],
   "source": [
    "label_encoder = preprocessing.LabelEncoder()\n",
    "df['category_label'] = label_encoder.fit_transform(df['category'])"
   ]
  },
  {
   "cell_type": "code",
   "execution_count": 7,
   "metadata": {},
   "outputs": [
    {
     "data": {
      "text/html": [
       "<div>\n",
       "<style scoped>\n",
       "    .dataframe tbody tr th:only-of-type {\n",
       "        vertical-align: middle;\n",
       "    }\n",
       "\n",
       "    .dataframe tbody tr th {\n",
       "        vertical-align: top;\n",
       "    }\n",
       "\n",
       "    .dataframe thead th {\n",
       "        text-align: right;\n",
       "    }\n",
       "</style>\n",
       "<table border=\"1\" class=\"dataframe\">\n",
       "  <thead>\n",
       "    <tr style=\"text-align: right;\">\n",
       "      <th></th>\n",
       "      <th>node_id</th>\n",
       "      <th>title</th>\n",
       "      <th>date</th>\n",
       "      <th>url</th>\n",
       "      <th>category</th>\n",
       "      <th>article</th>\n",
       "      <th>clean_data</th>\n",
       "      <th>category_label</th>\n",
       "    </tr>\n",
       "  </thead>\n",
       "  <tbody>\n",
       "    <tr>\n",
       "      <th>0</th>\n",
       "      <td>3074331</td>\n",
       "      <td>Consumer rights body’s oil price monitoring st...</td>\n",
       "      <td>19-07-2022</td>\n",
       "      <td>/business/news/consumer-rights-bodys-oil-price...</td>\n",
       "      <td>business</td>\n",
       "      <td>The Directorate of National Consumer Rights Pr...</td>\n",
       "      <td>directorate national consumer rights protectio...</td>\n",
       "      <td>0</td>\n",
       "    </tr>\n",
       "    <tr>\n",
       "      <th>1</th>\n",
       "      <td>3074126</td>\n",
       "      <td>Chattogram shares bleed for another day</td>\n",
       "      <td>19-07-2022</td>\n",
       "      <td>/business/news/chattogram-shares-bleed-another...</td>\n",
       "      <td>business</td>\n",
       "      <td>Shares on the Chittagong Stock Exchange (CSE) ...</td>\n",
       "      <td>shares chittagong stock exchange cse witnessed...</td>\n",
       "      <td>0</td>\n",
       "    </tr>\n",
       "    <tr>\n",
       "      <th>2</th>\n",
       "      <td>3073706</td>\n",
       "      <td>bKash’s instant add money service at Dev Bank</td>\n",
       "      <td>19-07-2022</td>\n",
       "      <td>/business/organisation-news/news/bkashs-instan...</td>\n",
       "      <td>business</td>\n",
       "      <td>Clients of Bangladesh Development Bank (BDB) c...</td>\n",
       "      <td>clients bangladesh development bank bdb use ad...</td>\n",
       "      <td>0</td>\n",
       "    </tr>\n",
       "    <tr>\n",
       "      <th>3</th>\n",
       "      <td>3074291</td>\n",
       "      <td>Textile millers demand 360 days for deferred L...</td>\n",
       "      <td>19-07-2022</td>\n",
       "      <td>/business/news/textile-millers-demand-360-days...</td>\n",
       "      <td>business</td>\n",
       "      <td>The leaders of Bangladesh Textile Mills Associ...</td>\n",
       "      <td>leaders bangladesh textile mills association b...</td>\n",
       "      <td>0</td>\n",
       "    </tr>\n",
       "    <tr>\n",
       "      <th>4</th>\n",
       "      <td>3074276</td>\n",
       "      <td>Tk 25,000 crore refinance scheme unveiled for ...</td>\n",
       "      <td>19-07-2022</td>\n",
       "      <td>/business/news/tk-25000-crore-refinance-scheme...</td>\n",
       "      <td>business</td>\n",
       "      <td>Bangladesh Bank today unveiled a Tk 25,000 cro...</td>\n",
       "      <td>bangladesh bank today unveiled tk 25000 crore ...</td>\n",
       "      <td>0</td>\n",
       "    </tr>\n",
       "  </tbody>\n",
       "</table>\n",
       "</div>"
      ],
      "text/plain": [
       "   node_id                                              title        date  \\\n",
       "0  3074331  Consumer rights body’s oil price monitoring st...  19-07-2022   \n",
       "1  3074126            Chattogram shares bleed for another day  19-07-2022   \n",
       "2  3073706      bKash’s instant add money service at Dev Bank  19-07-2022   \n",
       "3  3074291  Textile millers demand 360 days for deferred L...  19-07-2022   \n",
       "4  3074276  Tk 25,000 crore refinance scheme unveiled for ...  19-07-2022   \n",
       "\n",
       "                                                 url  category  \\\n",
       "0  /business/news/consumer-rights-bodys-oil-price...  business   \n",
       "1  /business/news/chattogram-shares-bleed-another...  business   \n",
       "2  /business/organisation-news/news/bkashs-instan...  business   \n",
       "3  /business/news/textile-millers-demand-360-days...  business   \n",
       "4  /business/news/tk-25000-crore-refinance-scheme...  business   \n",
       "\n",
       "                                             article  \\\n",
       "0  The Directorate of National Consumer Rights Pr...   \n",
       "1  Shares on the Chittagong Stock Exchange (CSE) ...   \n",
       "2  Clients of Bangladesh Development Bank (BDB) c...   \n",
       "3  The leaders of Bangladesh Textile Mills Associ...   \n",
       "4  Bangladesh Bank today unveiled a Tk 25,000 cro...   \n",
       "\n",
       "                                          clean_data  category_label  \n",
       "0  directorate national consumer rights protectio...               0  \n",
       "1  shares chittagong stock exchange cse witnessed...               0  \n",
       "2  clients bangladesh development bank bdb use ad...               0  \n",
       "3  leaders bangladesh textile mills association b...               0  \n",
       "4  bangladesh bank today unveiled tk 25000 crore ...               0  "
      ]
     },
     "execution_count": 7,
     "metadata": {},
     "output_type": "execute_result"
    }
   ],
   "source": [
    "df.head()"
   ]
  },
  {
   "cell_type": "code",
   "execution_count": 8,
   "metadata": {},
   "outputs": [],
   "source": [
    "# test train split\n",
    "X_train, X_test, Y_train, Y_test = train_test_split(df['clean_data'],\n",
    "                                                   df['category_label'], \n",
    "                                                   test_size = 0.2,\n",
    "                                                   random_state = 8)"
   ]
  },
  {
   "cell_type": "code",
   "execution_count": 9,
   "metadata": {},
   "outputs": [
    {
     "name": "stdout",
     "output_type": "stream",
     "text": [
      "Shape of X: (196,) and (49,)\n",
      "Shape of Y: (196,) and (49,)\n"
     ]
    }
   ],
   "source": [
    "print(f'Shape of X: {X_train.shape} and {X_test.shape}')\n",
    "print(f'Shape of Y: {Y_train.shape} and {Y_test.shape}')"
   ]
  },
  {
   "cell_type": "code",
   "execution_count": 12,
   "metadata": {},
   "outputs": [
    {
     "name": "stdout",
     "output_type": "stream",
     "text": [
      "Size of features object: (196, 32) and (49, 32)\n"
     ]
    }
   ],
   "source": [
    "ngram_range = (1, 2)\n",
    "min_df = 10\n",
    "max_df = 1.\n",
    "max_features = 32\n",
    "\n",
    "tfidf = TfidfVectorizer(encoding='utf-8',\n",
    "                         ngram_range = ngram_range,\n",
    "                         min_df = min_df, \n",
    "                         max_df = max_df,\n",
    "                         norm = 'l2',\n",
    "                         max_features = max_features,\n",
    "                         stop_words = None,\n",
    "                         lowercase = False,\n",
    "                         sublinear_tf = True)\n",
    "\n",
    "feature_train = tfidf.fit_transform(X_train).toarray()\n",
    "label_train = Y_train\n",
    "\n",
    "feature_test = tfidf.fit_transform(X_test).toarray()\n",
    "label_test = Y_test\n",
    "\n",
    "print(f'Size of features object: {feature_train.shape} and {feature_test.shape}')"
   ]
  },
  {
   "cell_type": "code",
   "execution_count": 13,
   "metadata": {},
   "outputs": [
    {
     "name": "stdout",
     "output_type": "stream",
     "text": [
      "Accuracy of the algorithm: 36.734693877551024 %\n"
     ]
    },
    {
     "name": "stderr",
     "output_type": "stream",
     "text": [
      "C:\\ProgramData\\Anaconda3\\lib\\site-packages\\sklearn\\ensemble\\forest.py:246: FutureWarning: The default value of n_estimators will change from 10 in version 0.20 to 100 in 0.22.\n",
      "  \"10 in version 0.20 to 100 in 0.22.\", FutureWarning)\n"
     ]
    }
   ],
   "source": [
    "# Make random forest classifier\n",
    "model = RandomForestClassifier()\n",
    "\n",
    "# fit the model\n",
    "model.fit(feature_train, label_train)\n",
    "\n",
    "# get prediction\n",
    "model_prediction = model.predict(feature_test)\n",
    "\n",
    "# calculate accuracy\n",
    "accuracy_val = accuracy_score(label_test, model_prediction)\n",
    "\n",
    "print(f'Accuracy of the algorithm: {accuracy_val*100} %')"
   ]
  },
  {
   "cell_type": "code",
   "execution_count": 14,
   "metadata": {},
   "outputs": [
    {
     "name": "stdout",
     "output_type": "stream",
     "text": [
      "Summary of the model prediction: \n",
      "              precision    recall  f1-score   support\n",
      "\n",
      "           0       0.29      0.11      0.15        19\n",
      "           1       0.67      0.27      0.38        15\n",
      "           2       0.33      0.80      0.47        15\n",
      "\n",
      "   micro avg       0.37      0.37      0.37        49\n",
      "   macro avg       0.43      0.39      0.34        49\n",
      "weighted avg       0.42      0.37      0.32        49\n",
      "\n"
     ]
    }
   ],
   "source": [
    "summary = classification_report(label_test, model_prediction)\n",
    "print(f'Summary of the model prediction: \\n{summary}')"
   ]
  },
  {
   "cell_type": "code",
   "execution_count": null,
   "metadata": {},
   "outputs": [],
   "source": []
  }
 ],
 "metadata": {
  "kernelspec": {
   "display_name": "Python 3",
   "language": "python",
   "name": "python3"
  },
  "language_info": {
   "codemirror_mode": {
    "name": "ipython",
    "version": 3
   },
   "file_extension": ".py",
   "mimetype": "text/x-python",
   "name": "python",
   "nbconvert_exporter": "python",
   "pygments_lexer": "ipython3",
   "version": "3.6.5"
  }
 },
 "nbformat": 4,
 "nbformat_minor": 2
}
